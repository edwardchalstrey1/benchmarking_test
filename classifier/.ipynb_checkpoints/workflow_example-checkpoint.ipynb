{
 "cells": [
  {
   "cell_type": "code",
   "execution_count": 1,
   "metadata": {},
   "outputs": [],
   "source": [
    "from IPython.display import HTML, display\n",
    "import tabulate\n",
    "import ast"
   ]
  },
  {
   "cell_type": "markdown",
   "metadata": {},
   "source": [
    "Run our algorithm locally and collect benchmark results\n",
    "---"
   ]
  },
  {
   "cell_type": "code",
   "execution_count": 2,
   "metadata": {},
   "outputs": [],
   "source": [
    "import classifier"
   ]
  },
  {
   "cell_type": "code",
   "execution_count": 3,
   "metadata": {},
   "outputs": [],
   "source": [
    "local_report, local_results = classifier.results()"
   ]
  },
  {
   "cell_type": "markdown",
   "metadata": {},
   "source": [
    "Run our algorithm in docker container after building\n",
    "---"
   ]
  },
  {
   "cell_type": "code",
   "execution_count": 4,
   "metadata": {},
   "outputs": [
    {
     "name": "stdout",
     "output_type": "stream",
     "text": [
      "Sending build context to Docker daemon   51.2kB\r",
      "\r\n",
      "Step 1/8 : FROM python:3\n",
      " ---> ac069ebfe1e1\n",
      "Step 2/8 : RUN apt-get update\n",
      " ---> Using cache\n",
      " ---> 5a84d23aa7b5\n",
      "Step 3/8 : RUN pip3 install numpy\n",
      " ---> Using cache\n",
      " ---> 4383ac463a3b\n",
      "Step 4/8 : RUN pip3 install scipy\n",
      " ---> Using cache\n",
      " ---> 6fa2c9da864b\n",
      "Step 5/8 : RUN pip3 install scikit-learn\n",
      " ---> Using cache\n",
      " ---> 0b888dbaed11\n",
      "Step 6/8 : COPY classifier.py /classifier.py\n",
      " ---> Using cache\n",
      " ---> 749dda8b7e08\n",
      "Step 7/8 : COPY display_classifier_results.py /display_classifier_results.py\n",
      " ---> Using cache\n",
      " ---> 50ec73f0fa8f\n",
      "Step 8/8 : CMD python3 display_classifier_results.py\n",
      " ---> Using cache\n",
      " ---> b27e356457c4\n",
      "Successfully built b27e356457c4\n",
      "Successfully tagged edwardchalstrey/classifier:latest\n"
     ]
    }
   ],
   "source": [
    "%%bash\n",
    "docker build -t edwardchalstrey/classifier:latest ."
   ]
  },
  {
   "cell_type": "code",
   "execution_count": 5,
   "metadata": {},
   "outputs": [
    {
     "name": "stdout",
     "output_type": "stream",
     "text": [
      "The push refers to repository [docker.io/edwardchalstrey/classifier]\n",
      "c9a5858f6be4: Preparing\n",
      "519c62ef6f36: Preparing\n",
      "f12d5b3c5c82: Preparing\n",
      "337d3babfd9c: Preparing\n",
      "493622b04a5f: Preparing\n",
      "65ef2276d16f: Preparing\n",
      "4b381ae03f9a: Preparing\n",
      "08a5b66845ac: Preparing\n",
      "88a85bcf8170: Preparing\n",
      "65860ac81ef4: Preparing\n",
      "a22a5ac18042: Preparing\n",
      "6257fa9f9597: Preparing\n",
      "578414b395b9: Preparing\n",
      "abc3250a6c7f: Preparing\n",
      "13d5529fd232: Preparing\n",
      "65ef2276d16f: Waiting\n",
      "4b381ae03f9a: Waiting\n",
      "08a5b66845ac: Waiting\n",
      "88a85bcf8170: Waiting\n",
      "65860ac81ef4: Waiting\n",
      "a22a5ac18042: Waiting\n",
      "6257fa9f9597: Waiting\n",
      "578414b395b9: Waiting\n",
      "abc3250a6c7f: Waiting\n",
      "13d5529fd232: Waiting\n",
      "519c62ef6f36: Layer already exists\n",
      "c9a5858f6be4: Layer already exists\n",
      "337d3babfd9c: Layer already exists\n",
      "f12d5b3c5c82: Layer already exists\n",
      "493622b04a5f: Layer already exists\n",
      "65ef2276d16f: Layer already exists\n",
      "65860ac81ef4: Layer already exists\n",
      "4b381ae03f9a: Layer already exists\n",
      "88a85bcf8170: Layer already exists\n",
      "08a5b66845ac: Layer already exists\n",
      "a22a5ac18042: Layer already exists\n",
      "6257fa9f9597: Layer already exists\n",
      "abc3250a6c7f: Layer already exists\n",
      "578414b395b9: Layer already exists\n",
      "13d5529fd232: Layer already exists\n",
      "latest: digest: sha256:0b75ff44bc2f78fa8ff462ead2cefb41a5217d0984d54fc39cf26eb09c8538b8 size: 3480\n"
     ]
    }
   ],
   "source": [
    "%%bash\n",
    "docker push edwardchalstrey/classifier"
   ]
  },
  {
   "cell_type": "code",
   "execution_count": 6,
   "metadata": {},
   "outputs": [
    {
     "name": "stdout",
     "output_type": "stream",
     "text": [
      "Using default tag: latest\n",
      "latest: Pulling from edwardchalstrey/classifier\n",
      "Digest: sha256:0b75ff44bc2f78fa8ff462ead2cefb41a5217d0984d54fc39cf26eb09c8538b8\n",
      "Status: Image is up to date for edwardchalstrey/classifier:latest\n"
     ]
    }
   ],
   "source": [
    "%%bash\n",
    "docker pull edwardchalstrey/classifier"
   ]
  },
  {
   "cell_type": "code",
   "execution_count": 7,
   "metadata": {},
   "outputs": [],
   "source": [
    "%%bash --out docker_results\n",
    "docker run edwardchalstrey/classifier:latest"
   ]
  },
  {
   "cell_type": "code",
   "execution_count": 8,
   "metadata": {},
   "outputs": [],
   "source": [
    "docker_results = ast.literal_eval(docker_results)\n",
    "docker_report, docker_results = docker_results"
   ]
  },
  {
   "cell_type": "markdown",
   "metadata": {},
   "source": [
    "How do they compare?\n",
    "---"
   ]
  },
  {
   "cell_type": "code",
   "execution_count": 9,
   "metadata": {},
   "outputs": [
    {
     "data": {
      "text/html": [
       "<table>\n",
       "<tbody>\n",
       "<tr><td>Version      </td><td>Training time (s)   </td><td>Prediction time (s) </td><td>Performance (micro avg f1 score)</td></tr>\n",
       "<tr><td>Basic 1.0    </td><td>0.01275014877319336 </td><td>0.01391291618347168 </td><td>0.9443826473859844              </td></tr>\n",
       "<tr><td>Container 1.0</td><td>0.016351938247680664</td><td>0.018523454666137695</td><td>0.9443826473859844              </td></tr>\n",
       "</tbody>\n",
       "</table>"
      ],
      "text/plain": [
       "<IPython.core.display.HTML object>"
      ]
     },
     "metadata": {},
     "output_type": "display_data"
    }
   ],
   "source": [
    "headers = [\"Version\"]\n",
    "c_results = [\"Basic 1.0\"]\n",
    "d_results = [\"Container 1.0\"]\n",
    "for k, v in local_results.items():\n",
    "    headers.append(k)\n",
    "    c_results.append(v)\n",
    "for k, v in docker_results.items():\n",
    "    d_results.append(v)\n",
    "display(HTML(tabulate.tabulate([headers, c_results, d_results], tablefmt='html')))"
   ]
  },
  {
   "cell_type": "code",
   "execution_count": 10,
   "metadata": {},
   "outputs": [
    {
     "name": "stdout",
     "output_type": "stream",
     "text": [
      "              precision    recall  f1-score   support\n",
      "\n",
      "           0       0.97      0.99      0.98        88\n",
      "           1       0.94      0.90      0.92        91\n",
      "           2       1.00      0.99      0.99        86\n",
      "           3       0.97      0.86      0.91        91\n",
      "           4       0.99      0.95      0.97        92\n",
      "           5       0.90      0.97      0.93        91\n",
      "           6       0.98      0.99      0.98        91\n",
      "           7       0.97      0.96      0.96        89\n",
      "           8       0.88      0.92      0.90        88\n",
      "           9       0.87      0.93      0.90        92\n",
      "\n",
      "   micro avg       0.94      0.94      0.94       899\n",
      "   macro avg       0.95      0.94      0.94       899\n",
      "weighted avg       0.95      0.94      0.94       899\n",
      "\n",
      "              precision    recall  f1-score   support\n",
      "\n",
      "           0       0.97      0.99      0.98        88\n",
      "           1       0.94      0.90      0.92        91\n",
      "           2       1.00      0.99      0.99        86\n",
      "           3       0.97      0.86      0.91        91\n",
      "           4       0.99      0.95      0.97        92\n",
      "           5       0.90      0.97      0.93        91\n",
      "           6       0.98      0.99      0.98        91\n",
      "           7       0.97      0.96      0.96        89\n",
      "           8       0.88      0.92      0.90        88\n",
      "           9       0.87      0.93      0.90        92\n",
      "\n",
      "   micro avg       0.94      0.94      0.94       899\n",
      "   macro avg       0.95      0.94      0.94       899\n",
      "weighted avg       0.95      0.94      0.94       899\n",
      "\n"
     ]
    }
   ],
   "source": [
    "print(local_report)\n",
    "print(docker_report)"
   ]
  },
  {
   "cell_type": "markdown",
   "metadata": {},
   "source": [
    "Now let's release the next version of our algorithm\n",
    "----\n",
    "Step 1: Navigate to Dockerhub and click the builds tab and set up build rules - configure to use the github repo\n",
    "\n",
    "Step 2: Edit the classifier algorithm\n",
    "\n",
    "Step 3: Commit and push changes to github"
   ]
  }
 ],
 "metadata": {
  "kernelspec": {
   "display_name": "Python 3",
   "language": "python",
   "name": "python3"
  },
  "language_info": {
   "codemirror_mode": {
    "name": "ipython",
    "version": 3
   },
   "file_extension": ".py",
   "mimetype": "text/x-python",
   "name": "python",
   "nbconvert_exporter": "python",
   "pygments_lexer": "ipython3",
   "version": "3.7.1"
  }
 },
 "nbformat": 4,
 "nbformat_minor": 2
}
