{
 "cells": [
  {
   "cell_type": "code",
   "execution_count": 1,
   "metadata": {},
   "outputs": [],
   "source": [
    "from IPython.display import HTML, display\n",
    "import tabulate\n",
    "import ast"
   ]
  },
  {
   "cell_type": "code",
   "execution_count": 2,
   "metadata": {},
   "outputs": [],
   "source": [
    "import classifier"
   ]
  },
  {
   "cell_type": "code",
   "execution_count": 3,
   "metadata": {},
   "outputs": [],
   "source": [
    "%%bash --out docker_results\n",
    "docker run edwardchalstrey/classifier:latest"
   ]
  },
  {
   "cell_type": "code",
   "execution_count": 4,
   "metadata": {},
   "outputs": [],
   "source": [
    "docker_results = ast.literal_eval(docker_results)"
   ]
  },
  {
   "cell_type": "code",
   "execution_count": 5,
   "metadata": {},
   "outputs": [
    {
     "data": {
      "text/html": [
       "<table>\n",
       "<tbody>\n",
       "<tr><td>Version  </td><td>Training time (s)  </td><td>Prediction time (s) </td><td>Performance (micro avg f1 score)</td></tr>\n",
       "<tr><td>Basic    </td><td>0.10903620719909668</td><td>0.036577701568603516</td><td>0.9566184649610678              </td></tr>\n",
       "<tr><td>Container</td><td>0.11687707901000977</td><td>0.04864978790283203 </td><td>0.9566184649610678              </td></tr>\n",
       "</tbody>\n",
       "</table>"
      ],
      "text/plain": [
       "<IPython.core.display.HTML object>"
      ]
     },
     "metadata": {},
     "output_type": "display_data"
    }
   ],
   "source": [
    "headers = [\"Version\"]\n",
    "c_results = [\"Basic\"]\n",
    "d_results = [\"Container\"]\n",
    "for k, v in classifier.results().items():\n",
    "    headers.append(k)\n",
    "    c_results.append(v)\n",
    "for k, v in docker_results.items():\n",
    "    d_results.append(v)\n",
    "display(HTML(tabulate.tabulate([headers, c_results, d_results], tablefmt='html')))"
   ]
  }
 ],
 "metadata": {
  "kernelspec": {
   "display_name": "Python 3",
   "language": "python",
   "name": "python3"
  },
  "language_info": {
   "codemirror_mode": {
    "name": "ipython",
    "version": 3
   },
   "file_extension": ".py",
   "mimetype": "text/x-python",
   "name": "python",
   "nbconvert_exporter": "python",
   "pygments_lexer": "ipython3",
   "version": "3.7.1"
  }
 },
 "nbformat": 4,
 "nbformat_minor": 2
}
